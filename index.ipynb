{
 "cells": [
  {
   "cell_type": "markdown",
   "metadata": {},
   "source": [
    "# APIs - Cumulative Lab\n",
    "\n",
    "\n",
    "## Introduction \n",
    "\n",
    "We've seen how the Yelp API works and how to create basic visualizations using Folium. It's time to put those skills to work in order to create a working map! Taking things a step further, you'll also independently explore how to perform pagination in order to retrieve a full results set from the Yelp API.\n",
    "\n",
    "## Objectives\n",
    "\n",
    "You will be able to: \n",
    "\n",
    "* Practice using functions to organize your code\n",
    "* Use pagination to retrieve all results from an API query\n",
    "* Practice parsing data returned from an API query\n",
    "* Practice interpreting visualizations of a dataset\n",
    "* Create maps using Folium"
   ]
  },
  {
   "cell_type": "markdown",
   "metadata": {},
   "source": [
    "## Your Task: Query Yelp for All Businesses in a Category and Analyze the Results\n",
    "\n",
    "![restaurant counter with pizza](images/restaurant_counter.jpg)\n",
    "\n",
    "Photo by <a href=\"https://unsplash.com/@jordanmadrid?utm_source=unsplash&utm_medium=referral&utm_content=creditCopyText\">Jordan Madrid</a> on <a href=\"/s/photos/pizza-restaurant?utm_source=unsplash&utm_medium=referral&utm_content=creditCopyText\">Unsplash</a>"
   ]
  },
  {
   "cell_type": "markdown",
   "metadata": {},
   "source": [
    "### Overview\n",
    "\n",
    "You've now worked with some API calls, but we have yet to see how to retrieve a more complete dataset in a programmatic manner. In this lab, you will write a query of businesses on Yelp, then use *pagination* to retrieve all possible results for that query. Then you will create a summary of your findings, including a Folium map of the geographic locations of those businesses.\n",
    "\n",
    "### Technical Details\n",
    "\n",
    "Returning to the Yelp API, the [documentation](https://www.yelp.com/developers/documentation/v3/business_search) also provides us details regarding the **API limits**. These often include details about the number of requests a user is allowed to make within a specified time limit and the maximum number of results to be returned. In this case, we are told that any request has a **maximum of 50 results per request** and defaults to 20. Furthermore, any search will be limited to a **total of 1000 results**. To retrieve all 1000 of these results, we would have to page through the results piece by piece, retrieving 50 at a time. Processes such as these are often referred to as pagination.\n",
    "\n",
    "Also, be mindful of the **API** ***rate*** **limits**. You can only make **5000 requests per day** and are also can make requests too fast. Start prototyping small before running a loop that could be faulty. You can also use `time.sleep(n)` to add delays. For more details see https://www.yelp.com/developers/documentation/v3/rate_limiting.\n",
    "\n",
    "In this lab, you will define a search and then paginate over the results to retrieve all of the results. You'll then parse these responses as a list of dictionaries (for further exploration) and create a map using Folium to visualize the results geographically.\n",
    "\n",
    "### Requirements\n",
    "\n",
    "#### 1. Make the Initial Request\n",
    "\n",
    "Start by filling in your API key to make the initial request to the business search API. Investigate the structure of the response you get back and start figuring out how you will extract the relevant information.\n",
    "\n",
    "#### 2. Add Pagination\n",
    "\n",
    "Using loops and functions, collect the maximum number of results for your query from the API.\n",
    "\n",
    "#### 3. Perform Exploratory Analysis\n",
    "\n",
    "Interpret visualizations related to the price range, average rating, and number of reviews for all query results.\n",
    "\n",
    "#### 4. Create a Folium Map\n",
    "\n",
    "Using latitude and longitude data, plot the query results on an interactive map."
   ]
  },
  {
   "cell_type": "markdown",
   "metadata": {},
   "source": [
    "## 1. Make the Initial Request\n",
    "\n",
    "### Querying\n",
    "\n",
    "Start by making an initial request to the Yelp API. Your search must include at least 2 parameters: **term** and **location**. For example, you might search for pizza restaurants in NYC. The term and location is up to you but make the request below.\n",
    "\n",
    "Use the `requests` library ([documentation here](https://requests.readthedocs.io/en/master/user/quickstart/#make-a-request)).\n",
    "\n",
    "You'll also need an API key from Yelp. If you haven't done this already, go to the Yelp [Manage App page](https://www.yelp.com/developers/v3/manage_app) and create a new app (after making an account if you haven't already)."
   ]
  },
  {
   "cell_type": "code",
   "execution_count": 4,
   "metadata": {},
   "outputs": [
    {
     "name": "stdout",
     "output_type": "stream",
     "text": [
      "200\n"
     ]
    },
    {
     "data": {
      "text/plain": [
       "<Response [200]>"
      ]
     },
     "execution_count": 4,
     "metadata": {},
     "output_type": "execute_result"
    }
   ],
   "source": [
    "# Replace None with appropriate code\n",
    "\n",
    "# Import the requests library\n",
    "import requests\n",
    "\n",
    "# Get this from the \"Manage App\" page. Make sure you set them\n",
    "# back to None before pushing this to GitHub, since otherwise\n",
    "# your credentials will be compromised\n",
    "api_key = \"e3laEfcQkh95cztTUtyRTWPL0AZnj65UTGYL8iXJfQ7I62Hy5uR1inxG51goqHteuiy6fKVCacoeX1V5AzhqcRo4tUhLsbduPflPaJKXBlR5JStS9fvIXT47jXuCYnYx\"\n",
    "\n",
    "# These can be whatever you want! But the solution uses \"pizza\"\n",
    "# and \"New York NY\" if you want to compare your work directly\n",
    "term = \"bank\"\n",
    "location = \"Los Angeles\"\n",
    "\n",
    "# Set up params for request\n",
    "url = \"https://api.yelp.com/v3/businesses/search\"\n",
    "headers = {\n",
    "    \"Authorization\": \"Bearer {}\".format(api_key)\n",
    "}\n",
    "url_params = {\n",
    "    \"term\": term.replace(\" \", \"+\"),\n",
    "    \"location\": location.replace(\" \", \"+\")\n",
    "}\n",
    "\n",
    "# Make the request using requests.get, passing in\n",
    "# url, headers=headers, and params=url_params\n",
    "response = requests.get('https://api.yelp.com/v3/businesses/search', params=url_params, headers=headers)\n",
    "\n",
    "# Confirm we got a 200 response\n",
    "print(response.status_code)\n",
    "response"
   ]
  },
  {
   "cell_type": "code",
   "execution_count": 5,
   "metadata": {},
   "outputs": [
    {
     "data": {
      "text/plain": [
       "dict_keys(['businesses', 'total', 'region'])"
      ]
     },
     "execution_count": 5,
     "metadata": {},
     "output_type": "execute_result"
    }
   ],
   "source": [
    "# Run this cell without changes\n",
    "\n",
    "# Get the response body in JSON format\n",
    "response_json = response.json()\n",
    "# View the keys\n",
    "response_json.keys()"
   ]
  },
  {
   "cell_type": "markdown",
   "metadata": {},
   "source": [
    "### Extracting Data\n",
    "\n",
    "Now, retrieve the value associated with the `'businesses'` key, and inspect its contents."
   ]
  },
  {
   "cell_type": "code",
   "execution_count": 6,
   "metadata": {},
   "outputs": [
    {
     "data": {
      "text/plain": [
       "[{'id': 'lv6vgFQci4cXXHs8uzeVKw',\n",
       "  'alias': 'wells-fargo-bank-los-angeles-98',\n",
       "  'name': 'Wells Fargo Bank',\n",
       "  'image_url': 'https://s3-media2.fl.yelpcdn.com/bphoto/rCXQXHiyRMF-3ioit_dA-w/o.jpg',\n",
       "  'is_closed': False,\n",
       "  'url': 'https://www.yelp.com/biz/wells-fargo-bank-los-angeles-98?adjust_creative=lewHg3BlJ5JcTllKrzItxQ&utm_campaign=yelp_api_v3&utm_medium=api_v3_business_search&utm_source=lewHg3BlJ5JcTllKrzItxQ',\n",
       "  'review_count': 19,\n",
       "  'categories': [{'alias': 'banks', 'title': 'Banks & Credit Unions'}],\n",
       "  'rating': 3.0,\n",
       "  'coordinates': {'latitude': 34.06005859375, 'longitude': -118.308448791504},\n",
       "  'transactions': [],\n",
       "  'location': {'address1': '670 S Western Ave',\n",
       "   'address2': '',\n",
       "   'address3': '',\n",
       "   'city': 'Los Angeles',\n",
       "   'zip_code': '90005',\n",
       "   'country': 'US',\n",
       "   'state': 'CA',\n",
       "   'display_address': ['670 S Western Ave', 'Los Angeles, CA 90005']},\n",
       "  'phone': '+12137391033',\n",
       "  'display_phone': '(213) 739-1033',\n",
       "  'distance': 1201.3860305893702},\n",
       " {'id': 'pCtKWnjkCrQzcOGcevHsaA',\n",
       "  'alias': 'wells-fargo-bank-hollywood-23',\n",
       "  'name': 'Wells Fargo Bank',\n",
       "  'image_url': 'https://s3-media1.fl.yelpcdn.com/bphoto/HgyV5h0Uxpbw66xJg1CK1g/o.jpg',\n",
       "  'is_closed': False,\n",
       "  'url': 'https://www.yelp.com/biz/wells-fargo-bank-hollywood-23?adjust_creative=lewHg3BlJ5JcTllKrzItxQ&utm_campaign=yelp_api_v3&utm_medium=api_v3_business_search&utm_source=lewHg3BlJ5JcTllKrzItxQ',\n",
       "  'review_count': 55,\n",
       "  'categories': [{'alias': 'banks', 'title': 'Banks & Credit Unions'}],\n",
       "  'rating': 4.0,\n",
       "  'coordinates': {'latitude': 34.100561, 'longitude': -118.326432},\n",
       "  'transactions': [],\n",
       "  'location': {'address1': '1600 Vine St',\n",
       "   'address2': '',\n",
       "   'address3': '',\n",
       "   'city': 'Hollywood',\n",
       "   'zip_code': '90028',\n",
       "   'country': 'US',\n",
       "   'state': 'CA',\n",
       "   'display_address': ['1600 Vine St', 'Hollywood, CA 90028']},\n",
       "  'phone': '+13234683000',\n",
       "  'display_phone': '(323) 468-3000',\n",
       "  'distance': 4358.3234605927755}]"
      ]
     },
     "execution_count": 6,
     "metadata": {},
     "output_type": "execute_result"
    }
   ],
   "source": [
    "# Replace None with appropriate code\n",
    "\n",
    "# Retrieve the value from response_json\n",
    "businesses = response_json['businesses']\n",
    "\n",
    "# View the first 2 records\n",
    "businesses[:2]"
   ]
  },
  {
   "cell_type": "markdown",
   "metadata": {},
   "source": [
    "### Preparing Data\n",
    "\n",
    "Write a function `prepare_data` that takes in a list of dictionaries like `businesses` and returns a copy that has been prepared for analysis:\n",
    "\n",
    "1. The `coordinates` key-value pair has been converted into two separate key-value pairs, `latitude` and `longitude`\n",
    "2. All other key-value pairs except for `name`, `review_count`, `rating`, and `price` have been dropped\n",
    "3. All dictionaries missing one of the relevant keys or containing null values have been dropped\n",
    "\n",
    "In other words, the final keys for each dictionary should be `name`, `review_count`, `rating`, `price`, `latitude`, and `longitude`.\n",
    "\n",
    "Complete the function in the cell below:"
   ]
  },
  {
   "cell_type": "code",
   "execution_count": 7,
   "metadata": {},
   "outputs": [
    {
     "data": {
      "text/plain": [
       "[{'name': 'Wells Fargo Bank',\n",
       "  'review_count': 19,\n",
       "  'rating': 3.0,\n",
       "  'price': None,\n",
       "  'latitude': 34.06005859375,\n",
       "  'longitude': 34.06005859375},\n",
       " {'name': 'Wells Fargo Bank',\n",
       "  'review_count': 55,\n",
       "  'rating': 4.0,\n",
       "  'price': None,\n",
       "  'latitude': 34.100561,\n",
       "  'longitude': 34.100561}]"
      ]
     },
     "execution_count": 7,
     "metadata": {},
     "output_type": "execute_result"
    }
   ],
   "source": [
    "# Replace None with appropriate code\n",
    "\n",
    "def prepare_data(data_list):\n",
    "    \"\"\"\n",
    "    This function takes in a list of dictionaries and prepares it\n",
    "    for analysis\n",
    "    \"\"\"\n",
    "    \n",
    "    # Make a new list to hold results\n",
    "    results = []\n",
    "    \n",
    "    for business_data in data_list:\n",
    "    \n",
    "        # Make a new dictionary to hold prepared data for this business\n",
    "        prepared_data = {}\n",
    "        \n",
    "        # Extract name, review_count, rating, and price key-value pairs\n",
    "        # from business_data and add to prepared_data\n",
    "        # If a key is not present in business_data, add it to prepared_data\n",
    "        # with an associated value of None\n",
    "        for i in (\"name\", \"review_count\", \"rating\", \"price\"):\n",
    "            prepared_data[i] = business_data.get(i, None)\n",
    "    \n",
    "        # Parse and add latitude and longitude columns\n",
    "        c = business_data[\"coordinates\"]\n",
    "        prepared_data[\"latitude\"] = c[\"latitude\"]\n",
    "        prepared_data[\"longitude\"] = c[\"latitude\"]\n",
    "        \n",
    "        # Add to list if all values are present\n",
    "        if (prepared_data.values()):\n",
    "            results.append(prepared_data)\n",
    "    \n",
    "    return results\n",
    "    \n",
    "# Test out function\n",
    "prepared_businesses = prepare_data(businesses)\n",
    "prepared_businesses[:2]"
   ]
  },
  {
   "cell_type": "markdown",
   "metadata": {},
   "source": [
    "Check that your function created the correct keys:"
   ]
  },
  {
   "cell_type": "code",
   "execution_count": 8,
   "metadata": {},
   "outputs": [],
   "source": [
    "# Run this cell without changes\n",
    "\n",
    "assert sorted(list(prepared_businesses[0].keys())) == ['latitude', 'longitude', 'name', 'price', 'rating', 'review_count']"
   ]
  },
  {
   "cell_type": "markdown",
   "metadata": {},
   "source": [
    "The following code will differ depending on your query, but we expect there to be 20 businesses in the original list, and potentially fewer in the prepared list (if any of them were missing data):"
   ]
  },
  {
   "cell_type": "code",
   "execution_count": 9,
   "metadata": {},
   "outputs": [
    {
     "name": "stdout",
     "output_type": "stream",
     "text": [
      "Original: 20\n",
      "Prepared: 20\n"
     ]
    }
   ],
   "source": [
    "# Run this cell without changes\n",
    "print(\"Original:\", len(businesses))\n",
    "print(\"Prepared:\", len(prepared_businesses))"
   ]
  },
  {
   "cell_type": "markdown",
   "metadata": {},
   "source": [
    "Great! We will reuse this function once we have retrieved the full dataset."
   ]
  },
  {
   "cell_type": "markdown",
   "metadata": {},
   "source": [
    "## 2. Add Pagination\n",
    "\n",
    "Now that you are able to extract information from one page of the response, let's figure out how to request as many pages as possible.\n",
    "\n",
    "### Determining the Total\n",
    "\n",
    "Depending on the number of total results for your query, you will either retrieve all of the results, or just the first 1000 (if there are more than 1000 total).\n",
    "\n",
    "We can find the total number of results using the `\"total\"` key:"
   ]
  },
  {
   "cell_type": "code",
   "execution_count": 10,
   "metadata": {},
   "outputs": [
    {
     "data": {
      "text/plain": [
       "3500"
      ]
     },
     "execution_count": 10,
     "metadata": {},
     "output_type": "execute_result"
    }
   ],
   "source": [
    "# Run this cell without changes\n",
    "response_json[\"total\"]"
   ]
  },
  {
   "cell_type": "markdown",
   "metadata": {},
   "source": [
    "(This is specific to the implementation of the Yelp API. Some APIs will just tell you that there are more pages, or will tell you the number of pages total, rather than the total number of results. If you're not sure, always check the documentation.)\n",
    "\n",
    "In the cell below, assign the variable `total` to either the value shown above (if it is less than 1000), or 1000."
   ]
  },
  {
   "cell_type": "code",
   "execution_count": 11,
   "metadata": {},
   "outputs": [],
   "source": [
    "# Replace None with appropriate code\n",
    "total = 1000"
   ]
  },
  {
   "cell_type": "markdown",
   "metadata": {},
   "source": [
    "### Calculating the Offsets\n",
    "\n",
    "The documentation states in the parameters section:\n",
    "\n",
    "> **Name**: `limit`, **Type:** int, **Description:** Optional. Number of business results to return. By default, it will return 20. Maximum is 50.\n",
    "\n",
    "> **Name**: `offset`, **Type:** int, **Description:** Optional. Offset the list of returned business results by this amount.\n",
    "\n",
    "So, to get the most results with the fewest API calls we want to set a limit of 50 every time. If, say, we wanted to get 210 total results, that would mean:\n",
    "\n",
    "1. Offset of `0` (first 50 records)\n",
    "2. Offset of `50` (second 50 records)\n",
    "3. Offset of `100` (third 50 records)\n",
    "4. Offset of `150` (fourth 50 records)\n",
    "5. Offset of `200` (final 10 records)\n",
    "\n",
    "In the cell below, create a function `get_offsets` that takes in a total and returns a list of offsets for that total. You can assume that there is a limit of 50 every time.\n",
    "\n",
    "*Hint: you can use `range` ([documentation here](https://docs.python.org/3.3/library/stdtypes.html?highlight=range#range)) to do this in one line of code. Just make the returned result is a list.*"
   ]
  },
  {
   "cell_type": "code",
   "execution_count": 12,
   "metadata": {},
   "outputs": [],
   "source": [
    "# Replace None with appropriate code\n",
    "def get_offsets(total):\n",
    "    \"\"\"\n",
    "    Get a list of offsets needed to get all pages\n",
    "    of data up until the total\n",
    "    \"\"\"\n",
    "    return list(range(0, total, 50))\n"
   ]
  },
  {
   "cell_type": "markdown",
   "metadata": {},
   "source": [
    "Check that your function works below:"
   ]
  },
  {
   "cell_type": "code",
   "execution_count": 13,
   "metadata": {},
   "outputs": [],
   "source": [
    "# Run this cell without changes\n",
    "\n",
    "assert get_offsets(200) == [0, 50, 100, 150]\n",
    "assert get_offsets(210) == [0, 50, 100, 150, 200]"
   ]
  },
  {
   "cell_type": "markdown",
   "metadata": {},
   "source": [
    "### Putting It All Together\n",
    "\n",
    "Recall that the following variable has already been declared for you:"
   ]
  },
  {
   "cell_type": "code",
   "execution_count": 14,
   "metadata": {},
   "outputs": [
    {
     "data": {
      "text/plain": [
       "{'term': 'bank', 'location': 'Los+Angeles'}"
      ]
     },
     "execution_count": 14,
     "metadata": {},
     "output_type": "execute_result"
    }
   ],
   "source": [
    "# Run this cell without changes\n",
    "url_params"
   ]
  },
  {
   "cell_type": "markdown",
   "metadata": {},
   "source": [
    "We'll go ahead and also specify that the limit should be 50 every time:"
   ]
  },
  {
   "cell_type": "code",
   "execution_count": 15,
   "metadata": {},
   "outputs": [],
   "source": [
    "# Run this cell without changes\n",
    "url_params[\"limit\"] = 50"
   ]
  },
  {
   "cell_type": "markdown",
   "metadata": {},
   "source": [
    "In order to modify the offset, you'll need to add it to `url_params` with the key `\"offset\"` and whatever value is needed.\n",
    "\n",
    "In the cell below, write code that:\n",
    "\n",
    "* Creates an empty list for the full prepared dataset\n",
    "* Loops over all of the offsets from `get_offsets` and makes an API call each time with the specified offset\n",
    "* Calls `prepare_data` to get a cleaned version of the result of each API call\n",
    "* Extends the full prepared dataset list with each query's prepared dataset"
   ]
  },
  {
   "cell_type": "code",
   "execution_count": 16,
   "metadata": {},
   "outputs": [
    {
     "data": {
      "text/plain": [
       "1000"
      ]
     },
     "execution_count": 16,
     "metadata": {},
     "output_type": "execute_result"
    }
   ],
   "source": [
    "# Replace None with appropriate code\n",
    "\n",
    "# Create an empty list for the full prepared dataset\n",
    "full_dataset = []\n",
    "\n",
    "for offset in get_offsets(total):\n",
    "    # Add or update the \"offset\" key-value pair in url_params\n",
    "    url_params[\"offset\"] = offset\n",
    "    \n",
    "    # Make the query and get the response\n",
    "    response = requests.get(url, headers=headers, params=url_params)\n",
    "    \n",
    "    # Get the response body in JSON format\n",
    "    response_json = response.json()\n",
    "    \n",
    "    # Get the list of businesses from the response_json\n",
    "    businesses = response_json[\"businesses\"]\n",
    "    \n",
    "    # Call the prepare_data function to get a list of processed data\n",
    "    prepared_businesses = prepare_data(businesses)\n",
    "    \n",
    "    # Extend full_dataset with this list (don't append, or you'll get\n",
    "    # a list of lists instead of a flat list)\n",
    "    full_dataset.extend(prepared_businesses)\n",
    "\n",
    "# Check the length of the full dataset. It will be up to `total`,\n",
    "# potentially less if there were missing values\n",
    "len(full_dataset)"
   ]
  },
  {
   "cell_type": "markdown",
   "metadata": {},
   "source": [
    "This code may take up to a few minutes to run.\n",
    "\n",
    "If you get an error trying to get the response body in JSON format, try adding `time.sleep(1)` right after the `requests.get` line, so your code will sleep for 1 second between each API call."
   ]
  },
  {
   "cell_type": "markdown",
   "metadata": {},
   "source": [
    "## 3. Perform Exploratory Analysis\n",
    "\n",
    "Take the businesses from the previous question and do an initial exploratory analysis. We have provided some plots for you to interpret:"
   ]
  },
  {
   "cell_type": "code",
   "execution_count": 17,
   "metadata": {},
   "outputs": [
    {
     "ename": "AttributeError",
     "evalue": "'NoneType' object has no attribute 'replace'",
     "output_type": "error",
     "traceback": [
      "\u001b[1;31m---------------------------------------------------------------------------\u001b[0m",
      "\u001b[1;31mAttributeError\u001b[0m                            Traceback (most recent call last)",
      "\u001b[1;32m<ipython-input-17-2c402ae4d6ec>\u001b[0m in \u001b[0;36m<module>\u001b[1;34m\u001b[0m\n\u001b[0;32m     23\u001b[0m \u001b[1;33m\u001b[0m\u001b[0m\n\u001b[0;32m     24\u001b[0m \u001b[1;31m# Plot price distribution\u001b[0m\u001b[1;33m\u001b[0m\u001b[1;33m\u001b[0m\u001b[1;33m\u001b[0m\u001b[0m\n\u001b[1;32m---> 25\u001b[1;33m \u001b[0mall_prices\u001b[0m \u001b[1;33m=\u001b[0m \u001b[1;33m[\u001b[0m\u001b[0mx\u001b[0m\u001b[1;33m[\u001b[0m\u001b[1;34m\"price\"\u001b[0m\u001b[1;33m]\u001b[0m\u001b[1;33m.\u001b[0m\u001b[0mreplace\u001b[0m\u001b[1;33m(\u001b[0m\u001b[1;34m\"$\"\u001b[0m\u001b[1;33m,\u001b[0m \u001b[1;34mr\"\\$\"\u001b[0m\u001b[1;33m)\u001b[0m \u001b[1;32mfor\u001b[0m \u001b[0mx\u001b[0m \u001b[1;32min\u001b[0m \u001b[0mfull_dataset\u001b[0m\u001b[1;33m]\u001b[0m\u001b[1;33m\u001b[0m\u001b[1;33m\u001b[0m\u001b[0m\n\u001b[0m\u001b[0;32m     26\u001b[0m \u001b[0mprice_counter\u001b[0m \u001b[1;33m=\u001b[0m \u001b[0mCounter\u001b[0m\u001b[1;33m(\u001b[0m\u001b[0mall_prices\u001b[0m\u001b[1;33m)\u001b[0m\u001b[1;33m\u001b[0m\u001b[1;33m\u001b[0m\u001b[0m\n\u001b[0;32m     27\u001b[0m \u001b[0mprice_keys\u001b[0m \u001b[1;33m=\u001b[0m \u001b[0msorted\u001b[0m\u001b[1;33m(\u001b[0m\u001b[0mprice_counter\u001b[0m\u001b[1;33m.\u001b[0m\u001b[0mkeys\u001b[0m\u001b[1;33m(\u001b[0m\u001b[1;33m)\u001b[0m\u001b[1;33m)\u001b[0m\u001b[1;33m\u001b[0m\u001b[1;33m\u001b[0m\u001b[0m\n",
      "\u001b[1;32m<ipython-input-17-2c402ae4d6ec>\u001b[0m in \u001b[0;36m<listcomp>\u001b[1;34m(.0)\u001b[0m\n\u001b[0;32m     23\u001b[0m \u001b[1;33m\u001b[0m\u001b[0m\n\u001b[0;32m     24\u001b[0m \u001b[1;31m# Plot price distribution\u001b[0m\u001b[1;33m\u001b[0m\u001b[1;33m\u001b[0m\u001b[1;33m\u001b[0m\u001b[0m\n\u001b[1;32m---> 25\u001b[1;33m \u001b[0mall_prices\u001b[0m \u001b[1;33m=\u001b[0m \u001b[1;33m[\u001b[0m\u001b[0mx\u001b[0m\u001b[1;33m[\u001b[0m\u001b[1;34m\"price\"\u001b[0m\u001b[1;33m]\u001b[0m\u001b[1;33m.\u001b[0m\u001b[0mreplace\u001b[0m\u001b[1;33m(\u001b[0m\u001b[1;34m\"$\"\u001b[0m\u001b[1;33m,\u001b[0m \u001b[1;34mr\"\\$\"\u001b[0m\u001b[1;33m)\u001b[0m \u001b[1;32mfor\u001b[0m \u001b[0mx\u001b[0m \u001b[1;32min\u001b[0m \u001b[0mfull_dataset\u001b[0m\u001b[1;33m]\u001b[0m\u001b[1;33m\u001b[0m\u001b[1;33m\u001b[0m\u001b[0m\n\u001b[0m\u001b[0;32m     26\u001b[0m \u001b[0mprice_counter\u001b[0m \u001b[1;33m=\u001b[0m \u001b[0mCounter\u001b[0m\u001b[1;33m(\u001b[0m\u001b[0mall_prices\u001b[0m\u001b[1;33m)\u001b[0m\u001b[1;33m\u001b[0m\u001b[1;33m\u001b[0m\u001b[0m\n\u001b[0;32m     27\u001b[0m \u001b[0mprice_keys\u001b[0m \u001b[1;33m=\u001b[0m \u001b[0msorted\u001b[0m\u001b[1;33m(\u001b[0m\u001b[0mprice_counter\u001b[0m\u001b[1;33m.\u001b[0m\u001b[0mkeys\u001b[0m\u001b[1;33m(\u001b[0m\u001b[1;33m)\u001b[0m\u001b[1;33m)\u001b[0m\u001b[1;33m\u001b[0m\u001b[1;33m\u001b[0m\u001b[0m\n",
      "\u001b[1;31mAttributeError\u001b[0m: 'NoneType' object has no attribute 'replace'"
     ]
    },
    {
     "data": {
      "image/png": "[encoded data removed]",
      "text/plain": [
       "<Figure size 1152x360 with 3 Axes>"
      ]
     },
     "metadata": {
      "needs_background": "light"
     },
     "output_type": "display_data"
    }
   ],
   "source": [
    "# Run this cell without changes\n",
    "from collections import Counter\n",
    "import matplotlib.pyplot as plt\n",
    "%matplotlib inline\n",
    "\n",
    "fig, (ax1, ax2, ax3) = plt.subplots(ncols=3, figsize=(16, 5))\n",
    "\n",
    "# Plot distribution of number of reviews\n",
    "all_review_counts = [x[\"review_count\"] for x in full_dataset]\n",
    "ax1.hist(all_review_counts)\n",
    "ax1.set_title(\"Review Count Distribution\")\n",
    "ax1.set_xlabel(\"Number of Reviews\")\n",
    "ax1.set_ylabel(\"Number of Businesses\")\n",
    "\n",
    "# Plot rating distribution\n",
    "all_ratings = [x[\"rating\"] for x in full_dataset]\n",
    "rating_counter = Counter(all_ratings)\n",
    "rating_keys = sorted(rating_counter.keys())\n",
    "ax2.bar(rating_keys, [rating_counter[key] for key in rating_keys])\n",
    "ax2.set_title(\"Rating Distribution\")\n",
    "ax2.set_xlabel(\"Rating\")\n",
    "ax2.set_ylabel(\"Number of Businesses\")\n",
    "\n",
    "# Plot price distribution\n",
    "all_prices = [x[\"price\"].replace(\"$\", r\"\\$\") for x in full_dataset]\n",
    "price_counter = Counter(all_prices)\n",
    "price_keys = sorted(price_counter.keys())\n",
    "ax3.bar(price_keys, [price_counter[key] for key in price_keys])\n",
    "ax3.set_title(\"Price Distribution\")\n",
    "ax3.set_xlabel(\"Price Category\")\n",
    "ax3.set_ylabel(\"Number of Businesses\");"
   ]
  },
  {
   "cell_type": "markdown",
   "metadata": {},
   "source": [
    "Describe the distributions displayed above and interpret them in the context of your query. (Your answer may differ from the solution branch depending on your query.)"
   ]
  },
  {
   "cell_type": "code",
   "execution_count": 18,
   "metadata": {},
   "outputs": [
    {
     "data": {
      "text/plain": [
       "'\\n\\nMost of the banks have less than 100 reviews. \\nless than 50 of the banks managed to get a high count of \\n400 reviews which is the highest observed int he review count distribution.\\n\\nThe ratings distribution shows that majority of the banks have a rating of 2. The distriution is skewed towards the \\nlower end of the ratings, however it also observed that atleast 25% of the banks in Los Angeles were rated 5. This \\nmay be explained by the big difference in banking experience that is depended on the size of the bank and the number of retail\\ncustomers that it serves. I expect that the lower rated banks may be the smaller ones.\\n'"
      ]
     },
     "execution_count": 18,
     "metadata": {},
     "output_type": "execute_result"
    }
   ],
   "source": [
    "# Replace None with appropriate text\n",
    "\"\"\"\n",
    "\n",
    "Most of the banks have less than 100 reviews. \n",
    "less than 50 of the banks managed to get a high count of \n",
    "400 reviews which is the highest observed int he review count distribution.\n",
    "\n",
    "The ratings distribution shows that majority of the banks have a rating of 2. The distriution is skewed towards the \n",
    "lower end of the ratings, however it also observed that atleast 25% of the banks in Los Angeles were rated 5. This \n",
    "may be explained by the big difference in banking experience that is depended on the size of the bank and the number of retail\n",
    "customers that it serves. I expect that the lower rated banks may be the smaller ones.\n",
    "\"\"\""
   ]
  },
  {
   "cell_type": "markdown",
   "metadata": {},
   "source": [
    "In the cell below, we also plot the rating distributions by price. In this setup, a price of one dollar sign is \"lower price\" and everything else is \"higher price\"."
   ]
  },
  {
   "cell_type": "code",
   "execution_count": 19,
   "metadata": {},
   "outputs": [
    {
     "data": {
      "image/png": "[encoded data removed]",
      "text/plain": [
       "<Figure size 432x288 with 1 Axes>"
      ]
     },
     "metadata": {
      "needs_background": "light"
     },
     "output_type": "display_data"
    }
   ],
   "source": [
    "# Run this cell without changes\n",
    "\n",
    "higher_price = []\n",
    "lower_price = []\n",
    "for row in full_dataset:\n",
    "    if row[\"price\"] == \"$\":\n",
    "        lower_price.append(row[\"rating\"])\n",
    "    else:\n",
    "        higher_price.append(row[\"rating\"])\n",
    "        \n",
    "fig, ax = plt.subplots()\n",
    "\n",
    "ax.hist([higher_price, lower_price], label=[\"higher price\", \"lower price\"], density=True)\n",
    "\n",
    "ax.legend();"
   ]
  },
  {
   "cell_type": "markdown",
   "metadata": {},
   "source": [
    "Is a higher price associated with a higher rating? (No need for any additional math/statistics, just interpret what you see in the plot.)"
   ]
  },
  {
   "cell_type": "code",
   "execution_count": 20,
   "metadata": {},
   "outputs": [
    {
     "data": {
      "text/plain": [
       "'\\nthe ratings of the higher price appear to be evenly distributed. \\nHowever, the lower price is skewed toward the higher ratings.\\nThus it can be concluded that the banks that offer affordable services \\nare the ones that have the highest ratings from customers in Los Angeles\\n\\n'"
      ]
     },
     "execution_count": 20,
     "metadata": {},
     "output_type": "execute_result"
    }
   ],
   "source": [
    "# Replace None with appropriate text\n",
    "\"\"\"\n",
    "the ratings of the higher price appear to be evenly distributed. \n",
    "However, the lower price is skewed toward the higher ratings.\n",
    "Thus it can be concluded that the banks that offer affordable services \n",
    "are the ones that have the highest ratings from customers in Los Angeles\n",
    "\n",
    "\"\"\""
   ]
  },
  {
   "cell_type": "markdown",
   "metadata": {},
   "source": [
    "Finally, let's look at ratings vs. review counts:"
   ]
  },
  {
   "cell_type": "code",
   "execution_count": 21,
   "metadata": {},
   "outputs": [
    {
     "data": {
      "image/png": "[encoded data removed]",
      "text/plain": [
       "<Figure size 1152x360 with 1 Axes>"
      ]
     },
     "metadata": {
      "needs_background": "light"
     },
     "output_type": "display_data"
    }
   ],
   "source": [
    "# Run this cell without changes\n",
    "fig, ax = plt.subplots(figsize=(16,5))\n",
    "\n",
    "ax.scatter(all_review_counts, all_ratings, alpha=0.2)\n",
    "ax.set_xlabel(\"Number of Reviews\")\n",
    "ax.set_ylabel(\"Rating\")\n",
    "# \"zoom in\" to a subset of review counts\n",
    "ax.set_xlim(left=0, right=1000);"
   ]
  },
  {
   "cell_type": "markdown",
   "metadata": {},
   "source": [
    "Is a higher number of reviews associated with a higher rating?"
   ]
  },
  {
   "cell_type": "code",
   "execution_count": 22,
   "metadata": {},
   "outputs": [
    {
     "data": {
      "text/plain": [
       "'\\nThe number of reviews is not associated with higher rating. \\nIt appears that the rating is evenly distributed and not changing with increase in the nunber of reviews.\\n'"
      ]
     },
     "execution_count": 22,
     "metadata": {},
     "output_type": "execute_result"
    }
   ],
   "source": [
    "# Replace None with appropriate text\n",
    "\"\"\"\n",
    "The number of reviews is not associated with higher rating. \n",
    "It appears that the rating is evenly distributed and not changing with increase in the nunber of reviews.\n",
    "\"\"\""
   ]
  },
  {
   "cell_type": "markdown",
   "metadata": {},
   "source": [
    "## 4. Create a Folium Map\n",
    "\n",
    "Make a map using Folium of the businesses you retrieved. Be sure to also add popups to the markers giving some basic information such as name, rating and price.\n",
    "\n",
    "You can center the map around the latitude and longitude of the first item in `full_dataset`."
   ]
  },
  {
   "cell_type": "code",
   "execution_count": 28,
   "metadata": {},
   "outputs": [
    {
     "data": {
      "text/html": [
       "<div style=\"width:100%;\"><div style=\"position:relative;width:100%;height:0;padding-bottom:60%;\"><span style=\"color:#565656\">Make this Notebook Trusted to load map: File -> Trust Notebook</span><iframe src=\"about:blank\" style=\"position:absolute;width:100%;height:100%;left:0;top:0;border:none !important;\" data-html=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 onload=\"this.contentDocument.open();this.contentDocument.write(atob(this.getAttribute('data-html')));this.contentDocument.close();\" allowfullscreen webkitallowfullscreen mozallowfullscreen></iframe></div></div>"
      ],
      "text/plain": [
       "<folium.folium.Map at 0x293358f6400>"
      ]
     },
     "execution_count": 28,
     "metadata": {},
     "output_type": "execute_result"
    }
   ],
   "source": [
    "# Replace None with appropriate code\n",
    "\n",
    "# Import the library\n",
    "import folium\n",
    "\n",
    "# Set up center latitude and longitude\n",
    "center_lat = full_dataset[0][\"latitude\"]\n",
    "center_long = full_dataset[0][\"longitude\"]\n",
    "\n",
    "# Initialize map with center lat and long\n",
    "yelp_map = folium.Map([center_lat, center_long], zoom_start=12)\n",
    "\n",
    "# Adjust this limit to see more or fewer businesses\n",
    "limit=10\n",
    "\n",
    "for business in full_dataset[:limit]:\n",
    "    # Extract information about business\n",
    "    lat = business[\"latitude\"]\n",
    "    long = business[\"longitude\"]\n",
    "    name = business[\"name\"]\n",
    "    rating = business[\"rating\"]\n",
    "    price = business[\"price\"]\n",
    "    details = \"{}\\nPrice: {} Rating:{}\".format(name,price,rating)\n",
    "    \n",
    "    # Create popup with relevant details\n",
    "    popup = folium.Popup(details)\n",
    "    \n",
    "    # Create marker with relevant lat/long and popup\n",
    "    marker = folium.Marker([lat, long], popup=popup)\n",
    "    \n",
    "    marker.add_to(yelp_map)\n",
    "    \n",
    "yelp_map"
   ]
  },
  {
   "cell_type": "markdown",
   "metadata": {},
   "source": [
    "## Summary\n",
    "\n",
    "Nice work! In this lab, you've made multiple API calls to Yelp in order to paginate through a results set, performing some basic exploratory analysis and then creating a nice interactive map to display the results using Folium! Well done!"
   ]
  },
  {
   "cell_type": "code",
   "execution_count": null,
   "metadata": {},
   "outputs": [],
   "source": []
  },
  {
   "cell_type": "code",
   "execution_count": null,
   "metadata": {},
   "outputs": [],
   "source": []
  }
 ],
 "metadata": {
  "kernelspec": {
   "display_name": "Python 3",
   "language": "python",
   "name": "python3"
  },
  "language_info": {
   "codemirror_mode": {
    "name": "ipython",
    "version": 3
   },
   "file_extension": ".py",
   "mimetype": "text/x-python",
   "name": "python",
   "nbconvert_exporter": "python",
   "pygments_lexer": "ipython3",
   "version": "3.8.5"
  },
  "toc": {
   "base_numbering": 1,
   "nav_menu": {},
   "number_sections": true,
   "sideBar": true,
   "skip_h1_title": false,
   "title_cell": "Table of Contents",
   "title_sidebar": "Contents",
   "toc_cell": false,
   "toc_position": {},
   "toc_section_display": true,
   "toc_window_display": false
  }
 },
 "nbformat": 4,
 "nbformat_minor": 2
}
